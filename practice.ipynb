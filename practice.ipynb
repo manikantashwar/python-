{
  "nbformat": 4,
  "nbformat_minor": 0,
  "metadata": {
    "colab": {
      "name": "practice.ipynb",
      "provenance": []
    },
    "kernelspec": {
      "name": "python3",
      "display_name": "Python 3"
    },
    "language_info": {
      "name": "python"
    }
  },
  "cells": [
    {
      "cell_type": "code",
      "execution_count": 27,
      "metadata": {
        "colab": {
          "base_uri": "https://localhost:8080/"
        },
        "id": "210Zh93O3GcD",
        "outputId": "58577377-238c-46be-aec3-937560e38cbc"
      },
      "outputs": [
        {
          "output_type": "stream",
          "name": "stdout",
          "text": [
            "enter the number33\n",
            "fail\n"
          ]
        }
      ],
      "source": [
        "marks=int(input(\"enter the number\"))\n",
        "if marks>80:\n",
        " print(\"grade A\")\n",
        "elif marks>=60:\n",
        "   print(\"grade B\")\n",
        "elif marks>=35:\n",
        "     print(\"only pass\")\n",
        "else :\n",
        "\n",
        "       print(\"fail\")\n"
      ]
    },
    {
      "cell_type": "code",
      "source": [
        "# calculate the avarage of three numbers 10,20,30 by assigning to suitable variable\n",
        "a=int(input(\"enter the A value :\"))\n",
        "b=int(input(\"enter the B value :\"))\n",
        "c=int(input(\"enter the C value :\"))\n",
        "avg=(a+b+c)/3\n",
        "print(avg)\n"
      ],
      "metadata": {
        "colab": {
          "base_uri": "https://localhost:8080/"
        },
        "id": "4KV8NP2X7kwC",
        "outputId": "46aaea53-ebc6-4d14-f387-0004f841e6d7"
      },
      "execution_count": 31,
      "outputs": [
        {
          "output_type": "stream",
          "name": "stdout",
          "text": [
            "enter the A value :34\n",
            "enter the B value :55\n",
            "enter the C value :78\n",
            "55.666666666666664\n"
          ]
        }
      ]
    },
    {
      "cell_type": "code",
      "source": [
        "#  Write a program that calculates area of a rectangle\n",
        "length=int(input(\"enter the length value :\"))\n",
        "breadth=int(input(\"enter the breadth value :\"))\n",
        "\n",
        "area= length*breadth\n",
        "print(area)"
      ],
      "metadata": {
        "colab": {
          "base_uri": "https://localhost:8080/"
        },
        "id": "cEg4JTfs-DVS",
        "outputId": "de0062a3-4e5a-4cf9-f057-316bfacabfe0"
      },
      "execution_count": 33,
      "outputs": [
        {
          "output_type": "stream",
          "name": "stdout",
          "text": [
            "enter the length value :25\n",
            "enter the breadth value :45\n",
            "1125\n"
          ]
        }
      ]
    },
    {
      "cell_type": "code",
      "source": [
        "# WAP to swap two variables and print the variables after swapping.\n",
        "a=25\n",
        "b=35\n",
        "print(\"before swapping values\", a,b)\n",
        "temp=a\n",
        "a=b\n",
        "b=temp\n",
        "print(\"after swapping values\", a,b)\n",
        "\n",
        "\n",
        "\n",
        "\n"
      ],
      "metadata": {
        "colab": {
          "base_uri": "https://localhost:8080/"
        },
        "id": "_1civlWgA2tN",
        "outputId": "c0c3f5d0-92a3-495d-97cd-59156f04f7fd"
      },
      "execution_count": 39,
      "outputs": [
        {
          "output_type": "stream",
          "name": "stdout",
          "text": [
            "before swapping values 25 35\n",
            "after swapping values 35 25\n"
          ]
        }
      ]
    },
    {
      "cell_type": "code",
      "source": [
        "##  WAP that converts length (5 inch) given in inch to mm\n",
        "##  WAP that assigns \"Grade A\" to students with marks more than 90\n",
        "inch=int(input(\"the inch value :\"))\n",
        "mm=25.4\n",
        "print(inch*mm)\n"
      ],
      "metadata": {
        "colab": {
          "base_uri": "https://localhost:8080/"
        },
        "id": "InLuD9euEaSG",
        "outputId": "ef7844c6-139e-46e7-b812-4e5bfee7ed55"
      },
      "execution_count": 43,
      "outputs": [
        {
          "output_type": "stream",
          "name": "stdout",
          "text": [
            "the inch value :5\n",
            "127.0\n"
          ]
        }
      ]
    },
    {
      "cell_type": "code",
      "source": [
        "marks=int(input(\"enter the marks :\"))\n",
        "if marks>90:\n",
        " print(\"Grade A\")\n",
        "\n",
        "else:\n",
        "  print (\"Grade B\")"
      ],
      "metadata": {
        "colab": {
          "base_uri": "https://localhost:8080/"
        },
        "id": "-v5A5cvTGXob",
        "outputId": "6cf34cbd-65f4-44f0-9cce-c0398cda8cd1"
      },
      "execution_count": 49,
      "outputs": [
        {
          "output_type": "stream",
          "name": "stdout",
          "text": [
            "enter the marks :90\n",
            "Grade B\n"
          ]
        }
      ]
    },
    {
      "cell_type": "code",
      "source": [
        "bool (5/5)"
      ],
      "metadata": {
        "colab": {
          "base_uri": "https://localhost:8080/"
        },
        "id": "fEXPKuy4JF1f",
        "outputId": "1a035375-4696-4591-a183-b704439821b6"
      },
      "execution_count": 55,
      "outputs": [
        {
          "output_type": "execute_result",
          "data": {
            "text/plain": [
              "True"
            ]
          },
          "metadata": {},
          "execution_count": 55
        }
      ]
    }
  ]
}